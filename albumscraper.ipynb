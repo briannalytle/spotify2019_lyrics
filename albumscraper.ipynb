{
 "cells": [
  {
   "cell_type": "code",
   "execution_count": 7,
   "metadata": {},
   "outputs": [],
   "source": [
    "import pandas as pd\n",
    "import numpy as np\n",
    "import json\n",
    "import requests\n",
    "import settings\n",
    "\n",
    "from bs4 import BeautifulSoup\n",
    "from selenium import webdriver\n",
    "from selenium.common import exceptions"
   ]
  },
  {
   "cell_type": "code",
   "execution_count": 8,
   "metadata": {},
   "outputs": [],
   "source": [
    "token = 'Bearer ' + settings.access_token\n",
    "base_url = \"http://api.genius.com\"\n",
    "headers = {'Authorization': token}"
   ]
  },
  {
   "cell_type": "code",
   "execution_count": 9,
   "metadata": {},
   "outputs": [],
   "source": [
    "def getalbumlyrics(urllinks, df_names, album_names):\n",
    "    for i, albumurl in enumerate(urllinks):\n",
    "        res = requests.get(albumurl)\n",
    "        soup = BeautifulSoup(res.content, 'html.parser')\n",
    "        track_list = soup.find_all('div', {'class' : 'chart_row-content'})\n",
    "        songs = []\n",
    "        for track in track_list:\n",
    "            album = {}\n",
    "            song = track.find('h3').text.strip().split('\\n').pop(0)\n",
    "            album['song']= song.replace('\\xa0', '')\n",
    "            songs.append(album)\n",
    "            album['link'] = track.find('a').attrs['href']\n",
    "            \n",
    "            globals()[df_names[i]] = pd.DataFrame(songs)\n",
    "            \n",
    "            album_lyrics = []\n",
    "            #song lyrics\n",
    "            def get_url(url):\n",
    "                song_lyrics = {}\n",
    "                page = requests.get(url)\n",
    "                html = BeautifulSoup(page.text, 'html.parser')\n",
    "                [h.extract() for h in html('script')]\n",
    "                lyrics = html.find('div', class_ = 'lyrics').get_text().strip().split(\"\\n\")\n",
    "                \n",
    "                song_lyrics['lyrics'] = lyrics\n",
    "                album_lyrics.append(song_lyrics)\n",
    "                \n",
    "                globals()[album_names[i]] = pd.DataFrame(album_lyrics)\n",
    "                \n",
    "            #grab song lyric links - nested function\n",
    "            for links in globals()[df_names[i]]['link']:\n",
    "                get_url(links)"
   ]
  },
  {
   "cell_type": "code",
   "execution_count": 10,
   "metadata": {},
   "outputs": [],
   "source": [
    "getalbumlyrics(['https://genius.com/albums/Post-malone/Hollywoods-bleeding',\n",
    "               'https://genius.com/albums/Billie-eilish/When-we-all-fall-asleep-where-do-we-go',\n",
    "               'https://genius.com/albums/Ariana-grande/Thank-u-next',\n",
    "               'https://genius.com/albums/Drake/Care-package'],\n",
    "              ['post', 'billie', 'ariana', 'drake'],\n",
    "              ['postalbum', 'billiealbum', 'arianaalbum', 'drakealbum'])"
   ]
  },
  {
   "cell_type": "code",
   "execution_count": 11,
   "metadata": {},
   "outputs": [],
   "source": [
    "post2019 = pd.concat([post, postalbum], axis = 1)\n",
    "billie2019 = pd.concat([billie, billiealbum], axis = 1)\n",
    "ariana2019 = pd.concat([ariana, arianaalbum], axis = 1)\n",
    "drake2019 = pd.concat([drake, drakealbum], axis = 1)\n",
    "\n",
    "\n",
    "post2019.to_csv('data/post2019.csv', index = False)\n",
    "billie2019.to_csv('data/billie2019.csv', index = False)\n",
    "ariana2019.to_csv('data/ariana2019.csv', index = False)\n",
    "drake2019.to_csv('data/drake2019.csv', index= False)"
   ]
  },
  {
   "cell_type": "code",
   "execution_count": 12,
   "metadata": {},
   "outputs": [
    {
     "data": {
      "text/html": [
       "<div>\n",
       "<style scoped>\n",
       "    .dataframe tbody tr th:only-of-type {\n",
       "        vertical-align: middle;\n",
       "    }\n",
       "\n",
       "    .dataframe tbody tr th {\n",
       "        vertical-align: top;\n",
       "    }\n",
       "\n",
       "    .dataframe thead th {\n",
       "        text-align: right;\n",
       "    }\n",
       "</style>\n",
       "<table border=\"1\" class=\"dataframe\">\n",
       "  <thead>\n",
       "    <tr style=\"text-align: right;\">\n",
       "      <th></th>\n",
       "      <th>song</th>\n",
       "      <th>link</th>\n",
       "      <th>lyrics</th>\n",
       "    </tr>\n",
       "  </thead>\n",
       "  <tbody>\n",
       "    <tr>\n",
       "      <td>0</td>\n",
       "      <td>!!!!!!!</td>\n",
       "      <td>https://genius.com/Billie-eilish--lyrics</td>\n",
       "      <td>[[Spoken: Billie Eilish &amp; FINNEAS], My Invisal...</td>\n",
       "    </tr>\n",
       "    <tr>\n",
       "      <td>1</td>\n",
       "      <td>​bad guy</td>\n",
       "      <td>https://genius.com/Billie-eilish-bad-guy-lyrics</td>\n",
       "      <td>[[Verse 1], White shirt now red, my bloody nos...</td>\n",
       "    </tr>\n",
       "    <tr>\n",
       "      <td>2</td>\n",
       "      <td>​xanny</td>\n",
       "      <td>https://genius.com/Billie-eilish-xanny-lyrics</td>\n",
       "      <td>[[Verse 1], What is it about them?, I must be ...</td>\n",
       "    </tr>\n",
       "    <tr>\n",
       "      <td>3</td>\n",
       "      <td>​you should see me in a crown</td>\n",
       "      <td>https://genius.com/Billie-eilish-you-should-se...</td>\n",
       "      <td>[[Verse 1], Bite my tongue, bide my time, Wear...</td>\n",
       "    </tr>\n",
       "    <tr>\n",
       "      <td>4</td>\n",
       "      <td>​all the good girls go to hell</td>\n",
       "      <td>https://genius.com/Billie-eilish-all-the-good-...</td>\n",
       "      <td>[[Intro], My Lucifer is lonely, , [Verse 1], S...</td>\n",
       "    </tr>\n",
       "  </tbody>\n",
       "</table>\n",
       "</div>"
      ],
      "text/plain": [
       "                             song  \\\n",
       "0                         !!!!!!!   \n",
       "1                        ​bad guy   \n",
       "2                          ​xanny   \n",
       "3   ​you should see me in a crown   \n",
       "4  ​all the good girls go to hell   \n",
       "\n",
       "                                                link  \\\n",
       "0           https://genius.com/Billie-eilish--lyrics   \n",
       "1    https://genius.com/Billie-eilish-bad-guy-lyrics   \n",
       "2      https://genius.com/Billie-eilish-xanny-lyrics   \n",
       "3  https://genius.com/Billie-eilish-you-should-se...   \n",
       "4  https://genius.com/Billie-eilish-all-the-good-...   \n",
       "\n",
       "                                              lyrics  \n",
       "0  [[Spoken: Billie Eilish & FINNEAS], My Invisal...  \n",
       "1  [[Verse 1], White shirt now red, my bloody nos...  \n",
       "2  [[Verse 1], What is it about them?, I must be ...  \n",
       "3  [[Verse 1], Bite my tongue, bide my time, Wear...  \n",
       "4  [[Intro], My Lucifer is lonely, , [Verse 1], S...  "
      ]
     },
     "execution_count": 12,
     "metadata": {},
     "output_type": "execute_result"
    }
   ],
   "source": [
    "billie2019.head()"
   ]
  },
  {
   "cell_type": "code",
   "execution_count": null,
   "metadata": {},
   "outputs": [],
   "source": []
  }
 ],
 "metadata": {
  "kernelspec": {
   "display_name": "Python 3",
   "language": "python",
   "name": "python3"
  },
  "language_info": {
   "codemirror_mode": {
    "name": "ipython",
    "version": 3
   },
   "file_extension": ".py",
   "mimetype": "text/x-python",
   "name": "python",
   "nbconvert_exporter": "python",
   "pygments_lexer": "ipython3",
   "version": "3.7.4"
  }
 },
 "nbformat": 4,
 "nbformat_minor": 2
}
