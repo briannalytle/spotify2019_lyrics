{
 "cells": [
  {
   "cell_type": "code",
   "execution_count": null,
   "metadata": {},
   "outputs": [],
   "source": [
    "import pandas as pd\n",
    "import numpy as np\n",
    "import json\n",
    "import requests\n",
    "import settings\n",
    "\n",
    "from bs4 import BeautifulSoup"
   ]
  },
  {
   "cell_type": "markdown",
   "metadata": {},
   "source": [
    "-------------------------------"
   ]
  },
  {
   "cell_type": "code",
   "execution_count": null,
   "metadata": {},
   "outputs": [],
   "source": [
    "token = 'Bearer ' + settings.access_token\n",
    "base_url = \"http://api.genius.com\"\n",
    "headers = {'Authorization': token}"
   ]
  },
  {
   "cell_type": "markdown",
   "metadata": {},
   "source": [
    "grabbing album song tracks"
   ]
  },
  {
   "cell_type": "code",
   "execution_count": null,
   "metadata": {},
   "outputs": [],
   "source": [
    "import pandas as pd\n",
    "import requests\n",
    "import time\n",
    "from bs4 import BeautifulSoup\n",
    "from selenium import webdriver\n",
    "from selenium.common import exceptions"
   ]
  },
  {
   "cell_type": "code",
   "execution_count": null,
   "metadata": {},
   "outputs": [],
   "source": [
    "url = 'https://genius.com/albums/Billie-eilish/When-we-all-fall-asleep-where-do-we-go'\n",
    "driver = webdriver.Chrome(executable_path=\"chromedriver/windows/chromedriver.exe\")\n",
    "driver.get(url)"
   ]
  },
  {
   "cell_type": "code",
   "execution_count": null,
   "metadata": {},
   "outputs": [],
   "source": [
    "tracklist = driver.find_element_by_xpath('/html/body/routable-page/ng-outlet/album-page/div[2]/div[1]/div')\n",
    "tracklist"
   ]
  },
  {
   "cell_type": "markdown",
   "metadata": {},
   "source": [
    "-----"
   ]
  },
  {
   "cell_type": "code",
   "execution_count": null,
   "metadata": {},
   "outputs": [],
   "source": [
    "url = 'https://genius.com/albums/Billie-eilish/When-we-all-fall-asleep-where-do-we-go'\n",
    "res = requests.get(url)\n",
    "soup = BeautifulSoup(res.content, 'html.parser')\n",
    "track_list = soup.find_all('div', {'class' : 'chart_row-content'})\n",
    "# track_list.find('a').attrs['href']"
   ]
  },
  {
   "cell_type": "code",
   "execution_count": null,
   "metadata": {},
   "outputs": [],
   "source": [
    "url = 'https://genius.com/albums/Billie-eilish/When-we-all-fall-asleep-where-do-we-go'\n",
    "res = requests.get(url)\n",
    "soup = BeautifulSoup(res.content, 'html.parser')\n",
    "track_list = soup.find_all('div', {'class' : 'chart_row-content'})\n",
    "songs = []\n",
    "\n",
    "for track in track_list:\n",
    "    album = {}\n",
    "    song = track.find('h3').text.strip().split('\\n').pop(0)\n",
    "    album['song']= song.replace('\\xa0', '')\n",
    "    songs.append(album)\n",
    "    album['link'] = track.find('a').attrs['href']\n",
    "    \n",
    "    billie = pd.DataFrame(songs)"
   ]
  },
  {
   "cell_type": "code",
   "execution_count": null,
   "metadata": {},
   "outputs": [],
   "source": [
    "billie.shape"
   ]
  },
  {
   "cell_type": "markdown",
   "metadata": {},
   "source": [
    "---------------------------"
   ]
  },
  {
   "cell_type": "markdown",
   "metadata": {},
   "source": [
    "all of the code above this line works"
   ]
  },
  {
   "cell_type": "code",
   "execution_count": null,
   "metadata": {},
   "outputs": [],
   "source": [
    "album_lyrics = []\n",
    "def get_url(url):\n",
    "    song_lyrics = {}\n",
    "    page = requests.get(url)\n",
    "    html = BeautifulSoup(page.text, 'html.parser')\n",
    "    [h.extract() for h in html('script')]\n",
    "    lyrics = html.find('div', class_ = 'lyrics').get_text().strip().split(\"\\n\")\n",
    "    \n",
    "    #need to figure out how to remove bad chars\n",
    "\n",
    "    song_lyrics['lyrics'] = lyrics\n",
    "    album_lyrics.append(song_lyrics)\n",
    "    \n",
    "for links in billie['link']:\n",
    "    get_url(links)"
   ]
  },
  {
   "cell_type": "code",
   "execution_count": null,
   "metadata": {},
   "outputs": [],
   "source": [
    "billie_album = pd.DataFrame(album_lyrics)"
   ]
  },
  {
   "cell_type": "code",
   "execution_count": null,
   "metadata": {},
   "outputs": [],
   "source": [
    "billie2019 = pd.concat([billie, billie_album], axis = 1)"
   ]
  },
  {
   "cell_type": "markdown",
   "metadata": {},
   "source": [
    "-------------------\n"
   ]
  }
 ],
 "metadata": {
  "kernelspec": {
   "display_name": "Python 3",
   "language": "python",
   "name": "python3"
  },
  "language_info": {
   "codemirror_mode": {
    "name": "ipython",
    "version": 3
   },
   "file_extension": ".py",
   "mimetype": "text/x-python",
   "name": "python",
   "nbconvert_exporter": "python",
   "pygments_lexer": "ipython3",
   "version": "3.7.4"
  }
 },
 "nbformat": 4,
 "nbformat_minor": 2
}
