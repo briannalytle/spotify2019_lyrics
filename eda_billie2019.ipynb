{
 "cells": [
  {
   "cell_type": "code",
   "execution_count": 94,
   "metadata": {},
   "outputs": [],
   "source": [
    "import pandas as pd\n",
    "import numpy as np\n",
    "import matplotlib.pyplot as plt\n",
    "import seaborn as sns\n",
    "import regex as re"
   ]
  },
  {
   "cell_type": "markdown",
   "metadata": {},
   "source": [
    "Import DataFrames"
   ]
  },
  {
   "cell_type": "code",
   "execution_count": 95,
   "metadata": {},
   "outputs": [],
   "source": [
    "billie = pd.read_csv('data/billie2019.csv')"
   ]
  },
  {
   "cell_type": "markdown",
   "metadata": {},
   "source": [
    "Clean DataFrame"
   ]
  },
  {
   "cell_type": "code",
   "execution_count": 96,
   "metadata": {},
   "outputs": [
    {
     "data": {
      "text/html": [
       "<div>\n",
       "<style scoped>\n",
       "    .dataframe tbody tr th:only-of-type {\n",
       "        vertical-align: middle;\n",
       "    }\n",
       "\n",
       "    .dataframe tbody tr th {\n",
       "        vertical-align: top;\n",
       "    }\n",
       "\n",
       "    .dataframe thead th {\n",
       "        text-align: right;\n",
       "    }\n",
       "</style>\n",
       "<table border=\"1\" class=\"dataframe\">\n",
       "  <thead>\n",
       "    <tr style=\"text-align: right;\">\n",
       "      <th></th>\n",
       "      <th>song</th>\n",
       "      <th>link</th>\n",
       "      <th>lyrics</th>\n",
       "    </tr>\n",
       "  </thead>\n",
       "  <tbody>\n",
       "    <tr>\n",
       "      <td>0</td>\n",
       "      <td>!!!!!!!</td>\n",
       "      <td>https://genius.com/Billie-eilish--lyrics</td>\n",
       "      <td>['[Spoken: Billie Eilish &amp; FINNEAS]', 'My Invi...</td>\n",
       "    </tr>\n",
       "    <tr>\n",
       "      <td>1</td>\n",
       "      <td>​bad guy</td>\n",
       "      <td>https://genius.com/Billie-eilish-bad-guy-lyrics</td>\n",
       "      <td>['[Verse 1]', 'White shirt now red, my bloody ...</td>\n",
       "    </tr>\n",
       "    <tr>\n",
       "      <td>2</td>\n",
       "      <td>​xanny</td>\n",
       "      <td>https://genius.com/Billie-eilish-xanny-lyrics</td>\n",
       "      <td>['[Verse 1]', 'What is it about them?', 'I mus...</td>\n",
       "    </tr>\n",
       "    <tr>\n",
       "      <td>3</td>\n",
       "      <td>​you should see me in a crown</td>\n",
       "      <td>https://genius.com/Billie-eilish-you-should-se...</td>\n",
       "      <td>['[Verse 1]', 'Bite my tongue, bide my time', ...</td>\n",
       "    </tr>\n",
       "    <tr>\n",
       "      <td>4</td>\n",
       "      <td>​all the good girls go to hell</td>\n",
       "      <td>https://genius.com/Billie-eilish-all-the-good-...</td>\n",
       "      <td>['[Intro]', 'My Lucifer is lonely', '', '[Vers...</td>\n",
       "    </tr>\n",
       "  </tbody>\n",
       "</table>\n",
       "</div>"
      ],
      "text/plain": [
       "                             song  \\\n",
       "0                         !!!!!!!   \n",
       "1                        ​bad guy   \n",
       "2                          ​xanny   \n",
       "3   ​you should see me in a crown   \n",
       "4  ​all the good girls go to hell   \n",
       "\n",
       "                                                link  \\\n",
       "0           https://genius.com/Billie-eilish--lyrics   \n",
       "1    https://genius.com/Billie-eilish-bad-guy-lyrics   \n",
       "2      https://genius.com/Billie-eilish-xanny-lyrics   \n",
       "3  https://genius.com/Billie-eilish-you-should-se...   \n",
       "4  https://genius.com/Billie-eilish-all-the-good-...   \n",
       "\n",
       "                                              lyrics  \n",
       "0  ['[Spoken: Billie Eilish & FINNEAS]', 'My Invi...  \n",
       "1  ['[Verse 1]', 'White shirt now red, my bloody ...  \n",
       "2  ['[Verse 1]', 'What is it about them?', 'I mus...  \n",
       "3  ['[Verse 1]', 'Bite my tongue, bide my time', ...  \n",
       "4  ['[Intro]', 'My Lucifer is lonely', '', '[Vers...  "
      ]
     },
     "execution_count": 96,
     "metadata": {},
     "output_type": "execute_result"
    }
   ],
   "source": [
    "billie.head()"
   ]
  },
  {
   "cell_type": "code",
   "execution_count": 97,
   "metadata": {},
   "outputs": [],
   "source": [
    "stop_words = ['Bridge', 'Chorus', 'Interlude', 'Intro', 'Mehki Raine',\n",
    "             'Outro', 'Pre-Chorus', 'Spoken Billie Eilish', 'FINNEAS',\n",
    "             'Verse 1', 'Verse 2']"
   ]
  },
  {
   "cell_type": "code",
   "execution_count": 98,
   "metadata": {},
   "outputs": [],
   "source": [
    "#remove punctuation from lyrics column \n",
    "billie['lyrics'] = billie['lyrics'].str.replace('[^\\w\\s]', \"\")\n",
    "\n",
    "#remove stop words\n",
    "billie['lyrics'] = billie['lyrics'].str.replace('|'.join(stop_words), '')\n",
    "\n",
    "#create word count column\n",
    "billie['word_count'] = billie['lyrics'].apply(lambda x: len(x.split()))\n",
    "\n",
    "#unique word count\n",
    "billie['unique_word'] = billie['lyrics'].apply(set).apply(len)"
   ]
  },
  {
   "cell_type": "code",
   "execution_count": 99,
   "metadata": {},
   "outputs": [
    {
     "data": {
      "text/html": [
       "<div>\n",
       "<style scoped>\n",
       "    .dataframe tbody tr th:only-of-type {\n",
       "        vertical-align: middle;\n",
       "    }\n",
       "\n",
       "    .dataframe tbody tr th {\n",
       "        vertical-align: top;\n",
       "    }\n",
       "\n",
       "    .dataframe thead th {\n",
       "        text-align: right;\n",
       "    }\n",
       "</style>\n",
       "<table border=\"1\" class=\"dataframe\">\n",
       "  <thead>\n",
       "    <tr style=\"text-align: right;\">\n",
       "      <th></th>\n",
       "      <th>song</th>\n",
       "      <th>link</th>\n",
       "      <th>lyrics</th>\n",
       "      <th>word_count</th>\n",
       "      <th>unique_word</th>\n",
       "    </tr>\n",
       "  </thead>\n",
       "  <tbody>\n",
       "    <tr>\n",
       "      <td>0</td>\n",
       "      <td>!!!!!!!</td>\n",
       "      <td>https://genius.com/Billie-eilish--lyrics</td>\n",
       "      <td>My Invisalign has finally I have taken out ...</td>\n",
       "      <td>23</td>\n",
       "      <td>22</td>\n",
       "    </tr>\n",
       "    <tr>\n",
       "      <td>1</td>\n",
       "      <td>​bad guy</td>\n",
       "      <td>https://genius.com/Billie-eilish-bad-guy-lyrics</td>\n",
       "      <td>White shirt now red my bloody nose Sleepin yo...</td>\n",
       "      <td>259</td>\n",
       "      <td>37</td>\n",
       "    </tr>\n",
       "    <tr>\n",
       "      <td>2</td>\n",
       "      <td>​xanny</td>\n",
       "      <td>https://genius.com/Billie-eilish-xanny-lyrics</td>\n",
       "      <td>What is it about them I must be missing somet...</td>\n",
       "      <td>229</td>\n",
       "      <td>41</td>\n",
       "    </tr>\n",
       "    <tr>\n",
       "      <td>3</td>\n",
       "      <td>​you should see me in a crown</td>\n",
       "      <td>https://genius.com/Billie-eilish-you-should-se...</td>\n",
       "      <td>Bite my tongue bide my time Wearing a warning...</td>\n",
       "      <td>257</td>\n",
       "      <td>35</td>\n",
       "    </tr>\n",
       "    <tr>\n",
       "      <td>4</td>\n",
       "      <td>​all the good girls go to hell</td>\n",
       "      <td>https://genius.com/Billie-eilish-all-the-good-...</td>\n",
       "      <td>My Lucifer is lonely   Standing there killing...</td>\n",
       "      <td>218</td>\n",
       "      <td>38</td>\n",
       "    </tr>\n",
       "  </tbody>\n",
       "</table>\n",
       "</div>"
      ],
      "text/plain": [
       "                             song  \\\n",
       "0                         !!!!!!!   \n",
       "1                        ​bad guy   \n",
       "2                          ​xanny   \n",
       "3   ​you should see me in a crown   \n",
       "4  ​all the good girls go to hell   \n",
       "\n",
       "                                                link  \\\n",
       "0           https://genius.com/Billie-eilish--lyrics   \n",
       "1    https://genius.com/Billie-eilish-bad-guy-lyrics   \n",
       "2      https://genius.com/Billie-eilish-xanny-lyrics   \n",
       "3  https://genius.com/Billie-eilish-you-should-se...   \n",
       "4  https://genius.com/Billie-eilish-all-the-good-...   \n",
       "\n",
       "                                              lyrics  word_count  unique_word  \n",
       "0     My Invisalign has finally I have taken out ...          23           22  \n",
       "1   White shirt now red my bloody nose Sleepin yo...         259           37  \n",
       "2   What is it about them I must be missing somet...         229           41  \n",
       "3   Bite my tongue bide my time Wearing a warning...         257           35  \n",
       "4   My Lucifer is lonely   Standing there killing...         218           38  "
      ]
     },
     "execution_count": 99,
     "metadata": {},
     "output_type": "execute_result"
    }
   ],
   "source": [
    "billie.head()"
   ]
  },
  {
   "cell_type": "code",
   "execution_count": 90,
   "metadata": {
    "scrolled": true
   },
   "outputs": [
    {
     "data": {
      "text/plain": [
       "array(['   My Invisalign has finally I have taken out my Invisalign I have taken out my Invisalign and this is the album Hahahahahahahahahahaha ahh',\n",
       "       ' White shirt now red my bloody nose Sleepin youre on your tippy toes Creepin around like no one knows Think youre so criminal Bruises on both my knees for you Dont say thank you or please I do what I want when Im wanting to My soul So cynical   So youre a tough guy Like it really rough guy Just cant get enough guy Chest always so puffed guy Im that bad type Make your mama sad type Make your girlfriend mad tight Might seduce your dad type Im the bad guy Duh  Post Im the bad guy   I like it when you take control Even if you know that you dont Own me Ill let you play the role Ill be your animal My mommy likes to sing along with me But she wont sing this song If she reads all the lyrics Shell pity the men I know   So youre a tough guy Like it really rough guy Just cant get enough guy Chest always so puffed guy Im that bad type Make your mama sad type Make your girlfriend mad tight Might seduce your dad type Im the bad guy Duh  Post Im the bad guy duh Im only good at bein bad bad   I like when you get mad I guess Im pretty glad that youre alone You said shes scared of me I mean I dont see what she sees But maybe its cause Im wearing your cologne   Im a bad guy Im Im a bad guy Bad guy bad guy Im a bad',\n",
       "       ' What is it about them I must be missing something They just keep doing nothing Too intoxicated to be scared Better off without them Theyre nothing but unstable Bring ashtrays to the table And thats about the only thing they share   Im in their secondhand smoke Still just drinking canned Coke I dont need a Xanny to feel better On designated drives home Only one whos not stoned Dont give me a Xanny now or ever   Can you check your Uber rating Oh my god And its like wait like when   Wakin up at sundown Ooh Theyre late to every party Ooh Nobodys ever sorry Ooh Too inebriated now to dance Morning as they come down Come down Their pretty heads are hurting Hurting Theyre awfully bad at learning Learning Make the same mistakes blame circumstance   Im in their secondhand smoke Still just drinking canned Coke I dont need a Xanny to feel better On designated drives home Only one whos not stoned Dont give me a Xanny now or ever   Please dont try to kiss me on the sidewalk On your cigarette break I cant afford to love someone Who isnt dying by mistake in Silver Lake   What is it about them I must be missing something They just keep doin nothing Too intoxicated to be scared Hmm hmm Hmm mmm mmm mmm mmm Come down Hurting Learning',\n",
       "       ' Bite my tongue bide my time Wearing a warning sign Wait til the world is mine Visions I vandalize Cold in my kingdom size Fell for these ocean eyes   You should see me in a crown Im gonna run this nothing town Watch me make em bow One by one by one One by one by You should see me in a crown Your silence is my favorite sound Watch me make em bow One by one by one One by one by one   Count my cards watch them fall Blood on a marble wall I like the way they all scream Tell me which one is worse Living or dying first Sleeping inside a hearse I dont dream   You say Come over baby I think youre pretty Im okay Im not your baby If you think Im pretty   You should see me in a crown Im gonna run this nothing town Watch me make em bow One by one by one One by one by You should see me in a crown Your silence is my favorite sound Watch me make em bow One by one by one One by one by one  Instrumental Break   Crown Im gonna run this nothing town Watch me make em bow One by one by one One by one by You should see me in a crown You should see me see me Your silence is my favorite sound You should see me see me Watch me make em bow One by one by one One by one by one',\n",
       "       ' My Lucifer is lonely   Standing there killing time Cant commit to anything but a crime Peters on vacation an open invitation Animals evidence Pearly Gates look more like a picket fence Once you get inside em Got friends but cant invite them  Pre Hills burn in California My turn to ignore ya Dont say I didnt warn ya   All the good girls go to Hell Cause even God herself has enemies And once the water starts to rise And Heavens out of sight Shell want the Devil on her team  Post My Lucifer is lonely   Look at you needing me You know Im not your friend without some greenery Walk in wearin fetters Peter should know better Your cover up is caving in Man is such a fool why are we saving him Poisoning themselves now Begging for our help wow  Pre Hills burn in California My turn to ignore ya Dont say I didnt warn ya   All the good girls go to Hell Cause even God herself has enemies And once the water starts to rise And Heavens out of sight Shell want the Devil on her team  Post My Lucifer is lonely Theres nothing left to save now My god is gonna owe me Theres nothing left to save now   Haha I cannot do the snowflake',\n",
       "       ' Baby I dont feel so good six words you never understood Ill never let you go five words youll never say Aww I laugh along like nothings wrong four days has never felt so long If threes a crowd and two was us one slipped away Hahahahahahahaha   I just wanna make you feel okay But all you do is look the other way I cant tell you how much I wish I didnt wanna stay I just kinda wish you were gay   Is there a reason were not through Is there a 12 step just for you Our conversations all in blue 11 heys Hey hey hey hey Ten fingers tearin out my hair Nine times you never made it there I ate alone at 7 you were six minutes away Yay   How am I supposed to make you feel okay When all you do is walk the other way I cant tell you how much I wish I didnt wanna stay I just kinda wish you were gay   To spare my pride To give your lack of interest an explanation Dont say Im not your type Just say that Im not your preferred sexual orientation Im so selfish But you make me feel helpless yeah And I cant stand another day Stand another day   I just wanna make you feel okay But all you do is look the other way hmm I cant tell you how much I wish I didnt wanna stay I just kinda wish you were gay I just kinda wish you were gay I just kinda wish you were gay',\n",
       "       ' Dont you know Im no good for you Ive learned to lose you cant afford to Tore my shirt to stop you bleedin But nothin ever stops you leavin   Quiet when Im coming home and Im on my own I could lie say I like it like that like it like that I could lie say I like it like that like it like that   Dont you know too much already Ill only hurt you if you let me Call me friend but keep me closer Call me back And Ill call you when the partys over   Quiet when Im coming home and Im on my own And I could lie say I like it like that like it like that Yeah I could lie say I like it like that like it like that   But nothin is better sometimes Once weve both said our goodbyes Lets just let it go Let me let you go   Quiet when Im coming home and Im on my own I could lie say I like it like that like it like that I could lie say I like it like that like it like that',\n",
       "       ' Wait a minute let me finish I know you dont care But can you listen I came committed guess I overdid it Wore my heart out on a chain Around my neck but now its missin hmm  Refrain Dadadadadada Hmm Dadadadadadada Hmm hmm hmm hmm Oh hmm hmm   So I think I better go I never really know how to please you Youre lookin at me like Im seethrough I guess Im gonna go I just never know how you feel Do you even feel anything  Refrain Dadadadadada Dadadadadadada Oh hmm hmm   You said Dont treat me badly But you said it so sadly So I did the best I could Not thinkin you would have left me gladly I know youre not sorry Why should you be Cause who am I to be in love When your love never is for me Me  Refrain Dadadadadada Hmm Dadadadadadada Hmm hmm hmm hmm Oh hmm hmm   So I think I better go I never really know how to please you Youre lookin at me like Im seethrough I guess Im gonna go I just never know how you feel Do you even feel anything',\n",
       "       ' No Billy I havent done that dance since my wife died Theres a whole crowd of people out there who need to learn how to do The Scarn   Dont ask questions you dont wanna know Learned my lesson way too long ago To be talkin to you belladonna Shoulda taken a break not an Oxford comma Take what I want when I wanna And I want ya  Pre Bad bad news One of us is gonna lose Im the powder youre the fuse Just add some friction   You are my strange addiction You are my strange addiction My doctors cant explain My symptoms or my pain But you are my strange addiction   Im really really sorry I think I was just relieved To see that Michael Scarn got his confidence back Yeah Michael the movie is amazing Its like one of the best movies Ive ever seen in my life   Deadly fever please dont ever break Be my reliever cause I dont self medicate And it burns like a gin and I like it Put your lips on my skin and you might ignite it Hurts but I know how to hide it kinda like it Teh  Pre Bad bad news One of us is gonna lose Im the powder youre the fuse Just add some friction   You are my strange addiction You are my strange addiction My doctors cant explain My symptoms or my pain But you are my strange addiction   Bite my glass set myself on fire Cant you tell Im crass Cant you tell Im wired Tell me nothing lasts like I dont know You could kiss my asking about my motto   You should enter it in festivals or carnivals Thoughts Pretty good reaction Pretty cool right   You are my strange addiction You are my strange addiction My doctors cant explain My symptoms or my pain But you are my strange addiction   Did you like it Did you like that Um which part',\n",
       "       '  Billie   Billie Eilish What do you want from me Why dont you run from me What are you wondering What do you know Why arent you scared of me Why do you care for me When we all fall asleep where do we go   Billie Eilish   Come here Say it spit it out what is it exactly Youre payin Is the amount cleanin you out Am I satisfactory Today Im thinkin about the things that are deadly The way Im drinkin you down Like I wanna drown like I wanna end me  Refrain Billie Eilish Step on the glass staple your tongue Ahh Bury a friend try to wake up Ahahh Cannibal class killing the son Ahh Bury a friend I wanna end me  Pre Billie Eilish I wanna end me I wanna I wanna I wanna end me I wanna I wanna I wanna   Billie Eilish What do you want from me Why dont you run from me What are you wondering What do you know Why arent you scared of me Why do you care for me When we all fall asleep where do we go   Billie Eilish   Listen Keep you in the dark what had you expected Me to make you my art and make you a star And get you connected Ill meet you in the park Ill be calm and collected But we knew right from the start that youd fall apart Cause Im too expensive Its probably somethin that shouldnt be said out loud Honestly I thought that I would be dead by now Wow Calling security keepin my head held down Bury the hatchet or bury a friend right now   Billie Eilish   The debt I owe gotta sell my soul Cause I cant say no no I cant say no Then my limbs all froze and my eyes wont close And I cant say no I cant say no Careful  Refrain Billie Eilish Step on the glass staple your tongue Ahh Bury a friend try to wake up Ahahh Cannibal class killing the son Ahh Bury a friend I wanna end me  Pre Billie Eilish I wanna end me I wanna I wanna I wanna end me I wanna I wanna I wanna   Billie Eilish What do you want from me Why dont you run from me What are you wondering What do you know Why arent you scared of me Why do you care for me When we all fall asleep where do we go',\n",
       "       ' Told you not to worry But maybe thats a lie Honey whats your hurry Wont you stay inside Remember not to get too close to stars Theyre never gonna give you love like ours   Where did you go I should know but its cold And I dont wanna be lonely So show me the way home I cant lose another life  Refrain Hurry Im worried   The worlds a little blurry Or maybe its my eyes The friends Ive had to bury They keep me up at night Said I couldnt love someone Cause I might break If youre gonna die not by mistake   So where did you go I should know but its cold And I dont wanna be lonely So tell me youll come home Even if its just a lie   I tried not to upset you Let you rescue me the day I met you I just wanted to protect you But now Ill never get to  Refrain Hurry Im worried   Where did you go I should know but its cold And I dont wanna be lonely Was hoping youd come home I dont care if its a lie',\n",
       "       ' Take me to the rooftop I wanna see the world when I stop breathing Turnin blue Tell me love is endless dont be so pretentious Leave me like you do Like you do  Pre If you need me wanna see me Better hurry cause Im leavin soon   Sorry cant save me now Sorry I dont know how Sorry theres no way out Sorry But down Hmm down   Taste me the salty tears on my cheek Thats what a yearlong headache does to you Im not okay I feel so scattered Dont say Im all that matters Leave me déjà vu Hmm  Pre If you need me wanna see me You better hurry Im leavin soon   Sorry cant save me now Sorry Sorry I dont know how Sorry Sorry theres no way out Sorry But down Hmm down   Call my friends and tell them that I love them And Ill miss them But Im not sorry Call my friends and tell them that I love them And Ill miss them Sorry',\n",
       "       ' Its not true Tell me Ive been lied to Crying isnt like you ooh What the hell did I do Never been the type to Let someone see right through ooh   Maybe wont you take it back Say you were tryna make me laugh And nothing has to change today You didnt mean to say I love you I love you and I dont want to ooh   Up all night on another redeye I wish we never learned to fly Maybe we should just try To tell ourselves a good lie Didnt mean to make you cry   Maybe wont you take it back Say you were tryna make me laugh And nothing has to change today You didnt mean to say I love you I love you and I dont want to ooh   The smile that you gave me Even when you felt like dying   We fall apart as it gets dark Im in your arms in Central Park Theres nothing you could do or say I cant escape the way I love you I dont want to but I love you ooh Ooh ooh Ooh ooh',\n",
       "       ' Please please Dont leaveufeff me Be  Verse Its not true Take me to the rooftop Told you not to worry What do you want from me Dont ask questions Wait a minute Dont you know Im no good for you Baby I dont feel so good And all the good girls go ufeffto Hell Bite my tongue bide my time What is it about them Im the bad guy'],\n",
       "      dtype=object)"
      ]
     },
     "execution_count": 90,
     "metadata": {},
     "output_type": "execute_result"
    }
   ],
   "source": [
    "billie['lyrics'].unique()"
   ]
  },
  {
   "cell_type": "code",
   "execution_count": null,
   "metadata": {},
   "outputs": [],
   "source": []
  }
 ],
 "metadata": {
  "kernelspec": {
   "display_name": "Python 3",
   "language": "python",
   "name": "python3"
  },
  "language_info": {
   "codemirror_mode": {
    "name": "ipython",
    "version": 3
   },
   "file_extension": ".py",
   "mimetype": "text/x-python",
   "name": "python",
   "nbconvert_exporter": "python",
   "pygments_lexer": "ipython3",
   "version": "3.7.4"
  }
 },
 "nbformat": 4,
 "nbformat_minor": 2
}
