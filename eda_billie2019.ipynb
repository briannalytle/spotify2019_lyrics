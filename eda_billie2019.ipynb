{
 "cells": [
  {
   "cell_type": "code",
   "execution_count": 3,
   "metadata": {},
   "outputs": [],
   "source": [
    "import pandas as pd\n",
    "import numpy as np\n",
    "import matplotlib.pyplot as plt\n",
    "import seaborn as sns\n",
    "import regex as re\n",
    "\n",
    "from sklearn.feature_extraction.text import CountVectorizer, TfidfVectorizer, ENGLISH_STOP_WORDS\n",
    "\n",
    "from nltk.sentiment.vader import SentimentIntensityAnalyzer\n",
    "from nltk.stem import WordNetLemmatizer, PorterStemmer\n",
    "%matplotlib inline\n"
   ]
  },
  {
   "cell_type": "markdown",
   "metadata": {},
   "source": [
    "Import DataFrames"
   ]
  },
  {
   "cell_type": "code",
   "execution_count": 4,
   "metadata": {},
   "outputs": [],
   "source": [
    "billie = pd.read_csv('data/billie2019.csv')"
   ]
  },
  {
   "cell_type": "markdown",
   "metadata": {},
   "source": [
    "Clean DataFrame"
   ]
  },
  {
   "cell_type": "code",
   "execution_count": 5,
   "metadata": {},
   "outputs": [
    {
     "data": {
      "text/html": [
       "<div>\n",
       "<style scoped>\n",
       "    .dataframe tbody tr th:only-of-type {\n",
       "        vertical-align: middle;\n",
       "    }\n",
       "\n",
       "    .dataframe tbody tr th {\n",
       "        vertical-align: top;\n",
       "    }\n",
       "\n",
       "    .dataframe thead th {\n",
       "        text-align: right;\n",
       "    }\n",
       "</style>\n",
       "<table border=\"1\" class=\"dataframe\">\n",
       "  <thead>\n",
       "    <tr style=\"text-align: right;\">\n",
       "      <th></th>\n",
       "      <th>song</th>\n",
       "      <th>link</th>\n",
       "      <th>lyrics</th>\n",
       "    </tr>\n",
       "  </thead>\n",
       "  <tbody>\n",
       "    <tr>\n",
       "      <td>0</td>\n",
       "      <td>!!!!!!!</td>\n",
       "      <td>https://genius.com/Billie-eilish--lyrics</td>\n",
       "      <td>['[Spoken: Billie Eilish &amp; FINNEAS]', 'My Invi...</td>\n",
       "    </tr>\n",
       "    <tr>\n",
       "      <td>1</td>\n",
       "      <td>​bad guy</td>\n",
       "      <td>https://genius.com/Billie-eilish-bad-guy-lyrics</td>\n",
       "      <td>['[Verse 1]', 'White shirt now red, my bloody ...</td>\n",
       "    </tr>\n",
       "    <tr>\n",
       "      <td>2</td>\n",
       "      <td>​xanny</td>\n",
       "      <td>https://genius.com/Billie-eilish-xanny-lyrics</td>\n",
       "      <td>['[Verse 1]', 'What is it about them?', 'I mus...</td>\n",
       "    </tr>\n",
       "    <tr>\n",
       "      <td>3</td>\n",
       "      <td>​you should see me in a crown</td>\n",
       "      <td>https://genius.com/Billie-eilish-you-should-se...</td>\n",
       "      <td>['[Verse 1]', 'Bite my tongue, bide my time', ...</td>\n",
       "    </tr>\n",
       "    <tr>\n",
       "      <td>4</td>\n",
       "      <td>​all the good girls go to hell</td>\n",
       "      <td>https://genius.com/Billie-eilish-all-the-good-...</td>\n",
       "      <td>['[Intro]', 'My Lucifer is lonely', '', '[Vers...</td>\n",
       "    </tr>\n",
       "  </tbody>\n",
       "</table>\n",
       "</div>"
      ],
      "text/plain": [
       "                             song  \\\n",
       "0                         !!!!!!!   \n",
       "1                        ​bad guy   \n",
       "2                          ​xanny   \n",
       "3   ​you should see me in a crown   \n",
       "4  ​all the good girls go to hell   \n",
       "\n",
       "                                                link  \\\n",
       "0           https://genius.com/Billie-eilish--lyrics   \n",
       "1    https://genius.com/Billie-eilish-bad-guy-lyrics   \n",
       "2      https://genius.com/Billie-eilish-xanny-lyrics   \n",
       "3  https://genius.com/Billie-eilish-you-should-se...   \n",
       "4  https://genius.com/Billie-eilish-all-the-good-...   \n",
       "\n",
       "                                              lyrics  \n",
       "0  ['[Spoken: Billie Eilish & FINNEAS]', 'My Invi...  \n",
       "1  ['[Verse 1]', 'White shirt now red, my bloody ...  \n",
       "2  ['[Verse 1]', 'What is it about them?', 'I mus...  \n",
       "3  ['[Verse 1]', 'Bite my tongue, bide my time', ...  \n",
       "4  ['[Intro]', 'My Lucifer is lonely', '', '[Vers...  "
      ]
     },
     "execution_count": 5,
     "metadata": {},
     "output_type": "execute_result"
    }
   ],
   "source": [
    "billie.head()"
   ]
  },
  {
   "cell_type": "code",
   "execution_count": 6,
   "metadata": {},
   "outputs": [],
   "source": [
    "stop_words = ['Bridge', 'Chorus', 'Interlude', 'Intro', 'Mehki Raine',\n",
    "             'Outro', 'Pre-Chorus', 'Spoken Billie Eilish', 'FINNEAS',\n",
    "             'Verse 1', 'Verse 2']"
   ]
  },
  {
   "cell_type": "code",
   "execution_count": 7,
   "metadata": {},
   "outputs": [],
   "source": [
    "#remove punctuation from lyrics column \n",
    "billie['lyrics'] = billie['lyrics'].str.replace('[^\\w\\s]', \"\")\n",
    "\n",
    "#remove stop words\n",
    "billie['lyrics'] = billie['lyrics'].str.replace('|'.join(stop_words), '')\n",
    "\n",
    "#set to lowercase\n",
    "billie['lyrics'] = billie['lyrics'].map(lambda x: x.lower())\n",
    "\n",
    "#create word count column\n",
    "billie['word_count'] = billie['lyrics'].apply(lambda x: len(x.split()))\n",
    "\n",
    "#unique word count\n",
    "billie['unique_word'] = billie['lyrics'].apply(set).apply(len)"
   ]
  },
  {
   "cell_type": "markdown",
   "metadata": {},
   "source": [
    "songs that contained the most lyrics"
   ]
  },
  {
   "cell_type": "code",
   "execution_count": 8,
   "metadata": {},
   "outputs": [
    {
     "data": {
      "text/html": [
       "<div>\n",
       "<style scoped>\n",
       "    .dataframe tbody tr th:only-of-type {\n",
       "        vertical-align: middle;\n",
       "    }\n",
       "\n",
       "    .dataframe tbody tr th {\n",
       "        vertical-align: top;\n",
       "    }\n",
       "\n",
       "    .dataframe thead th {\n",
       "        text-align: right;\n",
       "    }\n",
       "</style>\n",
       "<table border=\"1\" class=\"dataframe\">\n",
       "  <thead>\n",
       "    <tr style=\"text-align: right;\">\n",
       "      <th></th>\n",
       "      <th>song</th>\n",
       "      <th>unique_word</th>\n",
       "    </tr>\n",
       "  </thead>\n",
       "  <tbody>\n",
       "    <tr>\n",
       "      <td>5</td>\n",
       "      <td>​wish you were gay</td>\n",
       "      <td>28</td>\n",
       "    </tr>\n",
       "    <tr>\n",
       "      <td>8</td>\n",
       "      <td>​my strange addiction</td>\n",
       "      <td>27</td>\n",
       "    </tr>\n",
       "    <tr>\n",
       "      <td>11</td>\n",
       "      <td>​listen before i go</td>\n",
       "      <td>26</td>\n",
       "    </tr>\n",
       "  </tbody>\n",
       "</table>\n",
       "</div>"
      ],
      "text/plain": [
       "                     song  unique_word\n",
       "5      ​wish you were gay           28\n",
       "8   ​my strange addiction           27\n",
       "11    ​listen before i go           26"
      ]
     },
     "execution_count": 8,
     "metadata": {},
     "output_type": "execute_result"
    }
   ],
   "source": [
    "billie.sort_values(by = \"unique_word\", ascending = False)[['song', 'unique_word']][:3]"
   ]
  },
  {
   "cell_type": "code",
   "execution_count": 9,
   "metadata": {},
   "outputs": [
    {
     "data": {
      "text/html": [
       "<div>\n",
       "<style scoped>\n",
       "    .dataframe tbody tr th:only-of-type {\n",
       "        vertical-align: middle;\n",
       "    }\n",
       "\n",
       "    .dataframe tbody tr th {\n",
       "        vertical-align: top;\n",
       "    }\n",
       "\n",
       "    .dataframe thead th {\n",
       "        text-align: right;\n",
       "    }\n",
       "</style>\n",
       "<table border=\"1\" class=\"dataframe\">\n",
       "  <thead>\n",
       "    <tr style=\"text-align: right;\">\n",
       "      <th></th>\n",
       "      <th>song</th>\n",
       "      <th>word_count</th>\n",
       "    </tr>\n",
       "  </thead>\n",
       "  <tbody>\n",
       "    <tr>\n",
       "      <td>9</td>\n",
       "      <td>​bury a friend</td>\n",
       "      <td>413</td>\n",
       "    </tr>\n",
       "    <tr>\n",
       "      <td>8</td>\n",
       "      <td>​my strange addiction</td>\n",
       "      <td>326</td>\n",
       "    </tr>\n",
       "    <tr>\n",
       "      <td>5</td>\n",
       "      <td>​wish you were gay</td>\n",
       "      <td>265</td>\n",
       "    </tr>\n",
       "  </tbody>\n",
       "</table>\n",
       "</div>"
      ],
      "text/plain": [
       "                    song  word_count\n",
       "9         ​bury a friend         413\n",
       "8  ​my strange addiction         326\n",
       "5     ​wish you were gay         265"
      ]
     },
     "execution_count": 9,
     "metadata": {},
     "output_type": "execute_result"
    }
   ],
   "source": [
    "billie.sort_values(by = \"word_count\", ascending = False)[['song', 'word_count']][:3]"
   ]
  },
  {
   "cell_type": "markdown",
   "metadata": {},
   "source": [
    "# Sentiment Analyzer"
   ]
  },
  {
   "cell_type": "code",
   "execution_count": 10,
   "metadata": {},
   "outputs": [],
   "source": [
    "sia = SentimentIntensityAnalyzer()"
   ]
  },
  {
   "cell_type": "code",
   "execution_count": 11,
   "metadata": {},
   "outputs": [],
   "source": [
    "sia_table = []\n",
    "for i in billie['lyrics']:\n",
    "    sia_scores = {}\n",
    "    sia_scores['sia_positive'] = sia.polarity_scores(i)['pos']\n",
    "    sia_scores['sia_negative'] = sia.polarity_scores(i)['neg']\n",
    "    sia_scores['sia_neutral'] = sia.polarity_scores(i)['neu']\n",
    "    sia_scores['sia_compound'] = sia.polarity_scores(i)['compound']\n",
    "\n",
    "    sia_table.append(sia_scores)\n",
    "    \n",
    "sia_table = pd.DataFrame(sia_table)\n",
    "billie = pd.concat([billie, sia_table], axis = 1)"
   ]
  },
  {
   "cell_type": "code",
   "execution_count": 12,
   "metadata": {},
   "outputs": [
    {
     "data": {
      "text/html": [
       "<div>\n",
       "<style scoped>\n",
       "    .dataframe tbody tr th:only-of-type {\n",
       "        vertical-align: middle;\n",
       "    }\n",
       "\n",
       "    .dataframe tbody tr th {\n",
       "        vertical-align: top;\n",
       "    }\n",
       "\n",
       "    .dataframe thead th {\n",
       "        text-align: right;\n",
       "    }\n",
       "</style>\n",
       "<table border=\"1\" class=\"dataframe\">\n",
       "  <thead>\n",
       "    <tr style=\"text-align: right;\">\n",
       "      <th></th>\n",
       "      <th>song</th>\n",
       "      <th>link</th>\n",
       "      <th>lyrics</th>\n",
       "      <th>word_count</th>\n",
       "      <th>unique_word</th>\n",
       "      <th>sia_positive</th>\n",
       "      <th>sia_negative</th>\n",
       "      <th>sia_neutral</th>\n",
       "      <th>sia_compound</th>\n",
       "    </tr>\n",
       "  </thead>\n",
       "  <tbody>\n",
       "    <tr>\n",
       "      <td>0</td>\n",
       "      <td>!!!!!!!</td>\n",
       "      <td>https://genius.com/Billie-eilish--lyrics</td>\n",
       "      <td>my invisalign has finally i have taken out ...</td>\n",
       "      <td>23</td>\n",
       "      <td>19</td>\n",
       "      <td>0.000</td>\n",
       "      <td>0.000</td>\n",
       "      <td>1.000</td>\n",
       "      <td>0.0000</td>\n",
       "    </tr>\n",
       "    <tr>\n",
       "      <td>1</td>\n",
       "      <td>​bad guy</td>\n",
       "      <td>https://genius.com/Billie-eilish-bad-guy-lyrics</td>\n",
       "      <td>white shirt now red my bloody nose sleepin yo...</td>\n",
       "      <td>259</td>\n",
       "      <td>24</td>\n",
       "      <td>0.101</td>\n",
       "      <td>0.283</td>\n",
       "      <td>0.615</td>\n",
       "      <td>-0.9965</td>\n",
       "    </tr>\n",
       "    <tr>\n",
       "      <td>2</td>\n",
       "      <td>​xanny</td>\n",
       "      <td>https://genius.com/Billie-eilish-xanny-lyrics</td>\n",
       "      <td>what is it about them i must be missing somet...</td>\n",
       "      <td>229</td>\n",
       "      <td>25</td>\n",
       "      <td>0.137</td>\n",
       "      <td>0.151</td>\n",
       "      <td>0.712</td>\n",
       "      <td>-0.5818</td>\n",
       "    </tr>\n",
       "    <tr>\n",
       "      <td>3</td>\n",
       "      <td>​you should see me in a crown</td>\n",
       "      <td>https://genius.com/Billie-eilish-you-should-se...</td>\n",
       "      <td>bite my tongue bide my time wearing a warning...</td>\n",
       "      <td>257</td>\n",
       "      <td>24</td>\n",
       "      <td>0.082</td>\n",
       "      <td>0.038</td>\n",
       "      <td>0.880</td>\n",
       "      <td>0.8948</td>\n",
       "    </tr>\n",
       "    <tr>\n",
       "      <td>4</td>\n",
       "      <td>​all the good girls go to hell</td>\n",
       "      <td>https://genius.com/Billie-eilish-all-the-good-...</td>\n",
       "      <td>my lucifer is lonely   standing there killing...</td>\n",
       "      <td>218</td>\n",
       "      <td>23</td>\n",
       "      <td>0.164</td>\n",
       "      <td>0.263</td>\n",
       "      <td>0.573</td>\n",
       "      <td>-0.9866</td>\n",
       "    </tr>\n",
       "  </tbody>\n",
       "</table>\n",
       "</div>"
      ],
      "text/plain": [
       "                             song  \\\n",
       "0                         !!!!!!!   \n",
       "1                        ​bad guy   \n",
       "2                          ​xanny   \n",
       "3   ​you should see me in a crown   \n",
       "4  ​all the good girls go to hell   \n",
       "\n",
       "                                                link  \\\n",
       "0           https://genius.com/Billie-eilish--lyrics   \n",
       "1    https://genius.com/Billie-eilish-bad-guy-lyrics   \n",
       "2      https://genius.com/Billie-eilish-xanny-lyrics   \n",
       "3  https://genius.com/Billie-eilish-you-should-se...   \n",
       "4  https://genius.com/Billie-eilish-all-the-good-...   \n",
       "\n",
       "                                              lyrics  word_count  unique_word  \\\n",
       "0     my invisalign has finally i have taken out ...          23           19   \n",
       "1   white shirt now red my bloody nose sleepin yo...         259           24   \n",
       "2   what is it about them i must be missing somet...         229           25   \n",
       "3   bite my tongue bide my time wearing a warning...         257           24   \n",
       "4   my lucifer is lonely   standing there killing...         218           23   \n",
       "\n",
       "   sia_positive  sia_negative  sia_neutral  sia_compound  \n",
       "0         0.000         0.000        1.000        0.0000  \n",
       "1         0.101         0.283        0.615       -0.9965  \n",
       "2         0.137         0.151        0.712       -0.5818  \n",
       "3         0.082         0.038        0.880        0.8948  \n",
       "4         0.164         0.263        0.573       -0.9866  "
      ]
     },
     "execution_count": 12,
     "metadata": {},
     "output_type": "execute_result"
    }
   ],
   "source": [
    "billie.head()"
   ]
  },
  {
   "cell_type": "markdown",
   "metadata": {},
   "source": [
    "# Most Common Terms"
   ]
  },
  {
   "cell_type": "code",
   "execution_count": 13,
   "metadata": {},
   "outputs": [],
   "source": [
    "X = billie['lyrics']"
   ]
  },
  {
   "cell_type": "code",
   "execution_count": 134,
   "metadata": {},
   "outputs": [],
   "source": [
    "custom_stop = list(ENGLISH_STOP_WORDS)\n",
    "nostop = []"
   ]
  },
  {
   "cell_type": "code",
   "execution_count": 181,
   "metadata": {},
   "outputs": [],
   "source": [
    "def ngramwords(vecttype, list_ngram, titlelist, list_colors):\n",
    "    fig, ax = plt.subplots(nrows = 2, ncols = 3, figsize = (20,13))\n",
    "    plt.subplots_adjust(hspace = 0.6)\n",
    "    \n",
    "    ax = ax.ravel()\n",
    "    for i, vectorizer in enumerate(vecttype):\n",
    "        vec = vectorizer(ngram_range = list_ngram[i])\n",
    "        words_df = pd.DataFrame(vec.fit_transform(X).todense(), columns = vec.get_feature_names())\n",
    "        top_10 = words_df.sum().sort_values(ascending = True).tail(10)\n",
    "        top_10.plot.bar(ax = ax[i], color = list_colors[i])\n",
    "        plt.setp(ax[i].get_xticklabels(), ha = \"right\", rotation = 45)\n",
    "        \n",
    "    for i, title in enumerate(titlelist):\n",
    "        ax[i].set_title(title)"
   ]
  },
  {
   "cell_type": "code",
   "execution_count": 182,
   "metadata": {},
   "outputs": [
    {
     "data": {
      "image/png": "[encoded data removed]",
      "text/plain": [
       "<Figure size 1440x936 with 6 Axes>"
      ]
     },
     "metadata": {
      "needs_background": "light"
     },
     "output_type": "display_data"
    }
   ],
   "source": [
    "ngramwords([CountVectorizer, CountVectorizer, CountVectorizer, TfidfVectorizer, TfidfVectorizer, TfidfVectorizer],\n",
    "          [(1,1), (2,2), (3,3), (1,1), (2,2), (3,3)],\n",
    "          ['CountVectorizer - (1,1)', 'CountVectorizer - (2,2)', 'CountVectorizer - (3,3)',\n",
    "          'TfidfVectorizer - (1,1)', 'TfidfVectorizer - (2,2)', 'TfidfVectorizer - (3,3)'],\n",
    "          ['dodgerblue', 'dodgerblue', 'dodgerblue', 'purple', 'purple', 'purple'])"
   ]
  },
  {
   "cell_type": "markdown",
   "metadata": {},
   "source": [
    "# LDA = TOPIC MODELING"
   ]
  },
  {
   "cell_type": "code",
   "execution_count": null,
   "metadata": {},
   "outputs": [],
   "source": []
  }
 ],
 "metadata": {
  "kernelspec": {
   "display_name": "Python 3",
   "language": "python",
   "name": "python3"
  },
  "language_info": {
   "codemirror_mode": {
    "name": "ipython",
    "version": 3
   },
   "file_extension": ".py",
   "mimetype": "text/x-python",
   "name": "python",
   "nbconvert_exporter": "python",
   "pygments_lexer": "ipython3",
   "version": "3.7.4"
  }
 },
 "nbformat": 4,
 "nbformat_minor": 2
}
