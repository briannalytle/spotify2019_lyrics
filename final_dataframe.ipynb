{
 "cells": [
  {
   "cell_type": "code",
   "execution_count": 7,
   "metadata": {},
   "outputs": [],
   "source": [
    "import pandas as pd\n",
    "import numpy as np"
   ]
  },
  {
   "cell_type": "code",
   "execution_count": 8,
   "metadata": {},
   "outputs": [],
   "source": [
    "billie_eda = pd.read_csv('01_data/billie_eda.csv')\n",
    "ariana_eda = pd.read_csv('01_data/ariana_eda.csv')\n",
    "post_eda = pd.read_csv('01_data/post_eda.csv')\n",
    "drake_eda = pd.read_csv('01_data/drake_eda.csv')"
   ]
  },
  {
   "cell_type": "code",
   "execution_count": 9,
   "metadata": {},
   "outputs": [],
   "source": [
    "billie_eda['artist'] = 'billie'\n",
    "ariana_eda['artist'] = 'ariana'\n",
    "post_eda['artist'] = 'post'\n",
    "drake_eda['artist'] = 'drake'"
   ]
  },
  {
   "cell_type": "code",
   "execution_count": 10,
   "metadata": {},
   "outputs": [],
   "source": [
    "artists = (billie_eda, ariana_eda, post_eda, drake_eda)\n",
    "\n",
    "artists2019 = pd.concat(artists, ignore_index = True)"
   ]
  },
  {
   "cell_type": "code",
   "execution_count": 11,
   "metadata": {},
   "outputs": [],
   "source": [
    "artists2019.to_csv('data/artists2019.csv', index = False)"
   ]
  }
 ],
 "metadata": {
  "kernelspec": {
   "display_name": "Python 3",
   "language": "python",
   "name": "python3"
  },
  "language_info": {
   "codemirror_mode": {
    "name": "ipython",
    "version": 3
   },
   "file_extension": ".py",
   "mimetype": "text/x-python",
   "name": "python",
   "nbconvert_exporter": "python",
   "pygments_lexer": "ipython3",
   "version": "3.7.4"
  }
 },
 "nbformat": 4,
 "nbformat_minor": 2
}
